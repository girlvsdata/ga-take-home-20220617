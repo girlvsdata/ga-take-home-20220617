{
  "nbformat": 4,
  "nbformat_minor": 0,
  "metadata": {
    "colab": {
      "name": "game_analyst_take_home_task.ipynb",
      "provenance": [],
      "authorship_tag": "ABX9TyNdtgrBMxKtryUbokiAmpQc",
      "include_colab_link": true
    },
    "kernelspec": {
      "name": "python3",
      "display_name": "Python 3"
    },
    "language_info": {
      "name": "python"
    }
  },
  "cells": [
    {
      "cell_type": "markdown",
      "metadata": {
        "id": "view-in-github",
        "colab_type": "text"
      },
      "source": [
        "<a href=\"https://colab.research.google.com/github/girlvsdata/ga-take-home-20220617/blob/main/game_analyst_take_home_task.ipynb\" target=\"_parent\"><img src=\"https://colab.research.google.com/assets/colab-badge.svg\" alt=\"Open In Colab\"/></a>"
      ]
    },
    {
      "cell_type": "code",
      "execution_count": null,
      "metadata": {
        "id": "ZztstPfhPV40"
      },
      "outputs": [],
      "source": [
        ""
      ]
    }
  ]
}